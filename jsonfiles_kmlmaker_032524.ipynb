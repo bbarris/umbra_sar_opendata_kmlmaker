{
 "cells": [
  {
   "cell_type": "code",
   "execution_count": null,
   "id": "4a2cf1d3",
   "metadata": {},
   "outputs": [],
   "source": []
  },
  {
   "cell_type": "code",
   "execution_count": null,
   "id": "abd43dd9",
   "metadata": {},
   "outputs": [],
   "source": []
  },
  {
   "cell_type": "code",
   "execution_count": 37,
   "id": "eaefee17",
   "metadata": {},
   "outputs": [
    {
     "name": "stdout",
     "output_type": "stream",
     "text": [
      "Added 3041 footprints.\n"
     ]
    }
   ],
   "source": [
    "import os\n",
    "import json\n",
    "import fiona\n",
    "from shapely.geometry import Polygon, mapping\n",
    "\n",
    "def save_footprints_kml(footprints, output_file):\n",
    "    kml_template = '''<?xml version=\"1.0\" encoding=\"UTF-8\"?>\n",
    "<kml xmlns=\"http://www.opengis.net/kml/2.2\">\n",
    "<Document>\n",
    "    {}\n",
    "</Document>\n",
    "</kml>'''\n",
    "\n",
    "    placemarks = \"\"\n",
    "    for idx, footprint in enumerate(footprints):\n",
    "        name = os.path.relpath(footprint['filename'], json_dir)\n",
    "        name = name.replace('.json', '')  # Remove the .json extension\n",
    "        coordinates = ' '.join([f\"{point[0]},{point[1]},{point[2]}\" for point in footprint['coordinates']])\n",
    "        placemark = f'''\n",
    "        <Placemark>\n",
    "            <name>{name}</name>\n",
    "            <Polygon>\n",
    "                <extrude>1</extrude>\n",
    "                <altitudeMode>relativeToGround</altitudeMode>\n",
    "                <outerBoundaryIs>\n",
    "                    <LinearRing>\n",
    "                        <coordinates>{coordinates}</coordinates>\n",
    "                    </LinearRing>\n",
    "                </outerBoundaryIs>\n",
    "            </Polygon>\n",
    "        </Placemark>\n",
    "        '''\n",
    "        placemarks += placemark\n",
    "\n",
    "    kml_content = kml_template.format(placemarks)\n",
    "\n",
    "    with open(output_file, 'w') as f:\n",
    "        f.write(kml_content)\n",
    "\n",
    "def process_json_files(json_dir):\n",
    "    footprints = []\n",
    "    for root, dirs, files in os.walk(json_dir):\n",
    "        for file in files:\n",
    "            if file.endswith('.json'):\n",
    "                filename = os.path.join(root, file)\n",
    "                with open(filename, 'r') as f:\n",
    "                    data = json.load(f)\n",
    "                    footprint = {\n",
    "                        'filename': filename,\n",
    "                        'coordinates': data['collects'][0]['footprintPolygonLla']['coordinates'][0]\n",
    "                    }\n",
    "                    footprints.append(footprint)\n",
    "    return footprints\n",
    "\n",
    "# Directory containing JSON files\n",
    "json_dir = 'jsonfiles032524'\n",
    "\n",
    "# Process JSON files\n",
    "footprints = process_json_files(json_dir)\n",
    "print(f\"Added {len(footprints)} footprints.\")\n",
    "\n",
    "# Output file\n",
    "output_file = 'output_file.kml'\n",
    "\n",
    "# Save footprints as KML\n",
    "save_footprints_kml(footprints, output_file)\n"
   ]
  },
  {
   "cell_type": "code",
   "execution_count": null,
   "id": "f131779d",
   "metadata": {},
   "outputs": [],
   "source": []
  }
 ],
 "metadata": {
  "kernelspec": {
   "display_name": "Python 3 (ipykernel)",
   "language": "python",
   "name": "python3"
  },
  "language_info": {
   "codemirror_mode": {
    "name": "ipython",
    "version": 3
   },
   "file_extension": ".py",
   "mimetype": "text/x-python",
   "name": "python",
   "nbconvert_exporter": "python",
   "pygments_lexer": "ipython3",
   "version": "3.10.13"
  }
 },
 "nbformat": 4,
 "nbformat_minor": 5
}
